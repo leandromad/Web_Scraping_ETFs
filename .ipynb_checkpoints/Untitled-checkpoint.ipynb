{
 "cells": [
  {
   "cell_type": "code",
   "execution_count": 1,
   "id": "1d0bb03f",
   "metadata": {},
   "outputs": [
    {
     "name": "stdout",
     "output_type": "stream",
     "text": [
      "Requirement already satisfied: webdriver-manager in c:\\users\\pichau\\anaconda3\\lib\\site-packages (3.8.5)\n",
      "Requirement already satisfied: requests in c:\\users\\pichau\\anaconda3\\lib\\site-packages (from webdriver-manager) (2.28.1)\n",
      "Requirement already satisfied: python-dotenv in c:\\users\\pichau\\anaconda3\\lib\\site-packages (from webdriver-manager) (0.21.0)\n",
      "Requirement already satisfied: tqdm in c:\\users\\pichau\\anaconda3\\lib\\site-packages (from webdriver-manager) (4.64.1)\n",
      "Requirement already satisfied: packaging in c:\\users\\pichau\\anaconda3\\lib\\site-packages (from webdriver-manager) (21.3)\n",
      "Requirement already satisfied: pyparsing!=3.0.5,>=2.0.2 in c:\\users\\pichau\\anaconda3\\lib\\site-packages (from packaging->webdriver-manager) (3.0.9)\n",
      "Requirement already satisfied: charset-normalizer<3,>=2 in c:\\users\\pichau\\anaconda3\\lib\\site-packages (from requests->webdriver-manager) (2.0.4)\n",
      "Requirement already satisfied: urllib3<1.27,>=1.21.1 in c:\\users\\pichau\\anaconda3\\lib\\site-packages (from requests->webdriver-manager) (1.26.11)\n",
      "Requirement already satisfied: idna<4,>=2.5 in c:\\users\\pichau\\anaconda3\\lib\\site-packages (from requests->webdriver-manager) (3.3)\n",
      "Requirement already satisfied: certifi>=2017.4.17 in c:\\users\\pichau\\anaconda3\\lib\\site-packages (from requests->webdriver-manager) (2022.9.14)\n",
      "Requirement already satisfied: colorama in c:\\users\\pichau\\anaconda3\\lib\\site-packages (from tqdm->webdriver-manager) (0.4.5)\n"
     ]
    }
   ],
   "source": [
    "!pip install webdriver-manager"
   ]
  },
  {
   "cell_type": "code",
   "execution_count": 2,
   "id": "8521543f",
   "metadata": {},
   "outputs": [
    {
     "name": "stdout",
     "output_type": "stream",
     "text": [
      "Requirement already satisfied: selenium in c:\\users\\pichau\\anaconda3\\lib\\site-packages (4.7.2)\n",
      "Requirement already satisfied: trio~=0.17 in c:\\users\\pichau\\anaconda3\\lib\\site-packages (from selenium) (0.22.0)\n",
      "Requirement already satisfied: trio-websocket~=0.9 in c:\\users\\pichau\\anaconda3\\lib\\site-packages (from selenium) (0.9.2)\n",
      "Requirement already satisfied: certifi>=2021.10.8 in c:\\users\\pichau\\anaconda3\\lib\\site-packages (from selenium) (2022.9.14)\n",
      "Requirement already satisfied: urllib3[socks]~=1.26 in c:\\users\\pichau\\anaconda3\\lib\\site-packages (from selenium) (1.26.11)\n",
      "Requirement already satisfied: sortedcontainers in c:\\users\\pichau\\anaconda3\\lib\\site-packages (from trio~=0.17->selenium) (2.4.0)\n",
      "Requirement already satisfied: attrs>=19.2.0 in c:\\users\\pichau\\anaconda3\\lib\\site-packages (from trio~=0.17->selenium) (21.4.0)\n",
      "Requirement already satisfied: cffi>=1.14 in c:\\users\\pichau\\anaconda3\\lib\\site-packages (from trio~=0.17->selenium) (1.15.1)\n",
      "Requirement already satisfied: sniffio in c:\\users\\pichau\\anaconda3\\lib\\site-packages (from trio~=0.17->selenium) (1.2.0)\n",
      "Requirement already satisfied: async-generator>=1.9 in c:\\users\\pichau\\anaconda3\\lib\\site-packages (from trio~=0.17->selenium) (1.10)\n",
      "Requirement already satisfied: idna in c:\\users\\pichau\\anaconda3\\lib\\site-packages (from trio~=0.17->selenium) (3.3)\n",
      "Requirement already satisfied: outcome in c:\\users\\pichau\\anaconda3\\lib\\site-packages (from trio~=0.17->selenium) (1.2.0)\n",
      "Requirement already satisfied: exceptiongroup>=1.0.0rc9 in c:\\users\\pichau\\anaconda3\\lib\\site-packages (from trio~=0.17->selenium) (1.1.0)\n",
      "Requirement already satisfied: wsproto>=0.14 in c:\\users\\pichau\\anaconda3\\lib\\site-packages (from trio-websocket~=0.9->selenium) (1.2.0)\n",
      "Requirement already satisfied: PySocks!=1.5.7,<2.0,>=1.5.6 in c:\\users\\pichau\\anaconda3\\lib\\site-packages (from urllib3[socks]~=1.26->selenium) (1.7.1)\n",
      "Requirement already satisfied: pycparser in c:\\users\\pichau\\anaconda3\\lib\\site-packages (from cffi>=1.14->trio~=0.17->selenium) (2.21)\n",
      "Requirement already satisfied: h11<1,>=0.9.0 in c:\\users\\pichau\\anaconda3\\lib\\site-packages (from wsproto>=0.14->trio-websocket~=0.9->selenium) (0.14.0)\n"
     ]
    }
   ],
   "source": [
    "!pip install selenium"
   ]
  },
  {
   "cell_type": "code",
   "execution_count": 3,
   "id": "25684f11",
   "metadata": {},
   "outputs": [
    {
     "name": "stdout",
     "output_type": "stream",
     "text": [
      "Collecting html5lib\n",
      "  Using cached html5lib-1.1-py2.py3-none-any.whl (112 kB)\n",
      "Requirement already satisfied: six>=1.9 in c:\\users\\pichau\\anaconda3\\lib\\site-packages (from html5lib) (1.16.0)\n",
      "Requirement already satisfied: webencodings in c:\\users\\pichau\\anaconda3\\lib\\site-packages (from html5lib) (0.5.1)\n",
      "Installing collected packages: html5lib\n",
      "Successfully installed html5lib-1.1\n"
     ]
    }
   ],
   "source": [
    "!pip install html5lib"
   ]
  },
  {
   "cell_type": "code",
   "execution_count": 2,
   "id": "550fd99c",
   "metadata": {},
   "outputs": [],
   "source": [
    "from selenium import webdriver\n",
    "from selenium.webdriver.chrome.service import Service\n",
    "from webdriver_manager.chrome import ChromeDriverManager\n",
    "import time\n",
    "import pandas as pd"
   ]
  },
  {
   "cell_type": "code",
   "execution_count": 35,
   "id": "51894dde",
   "metadata": {},
   "outputs": [],
   "source": [
    "driver = webdriver.Chrome(service = Service(ChromeDriverManager().install()))\n",
    "url = \"https://www.etf.com/etfanalytics/etf-finder\"\n",
    "driver.get(url)"
   ]
  },
  {
   "cell_type": "code",
   "execution_count": null,
   "id": "bfe762df",
   "metadata": {},
   "outputs": [],
   "source": [
    "time.sleep(5)\n",
    "botao_100 = driver.find_element(\"xpath\", '''html/body/div[5]/section/div/div[3]/section/div/div/div/div/div[2]/section[2]/div[2]\n",
    "/section[2]/div[1]/div/div[4]/button/label/span''')\n",
    "\n",
    "driver.execute_script('arguments[0].click();', botao_100)"
   ]
  },
  {
   "cell_type": "code",
   "execution_count": null,
   "id": "be510b66",
   "metadata": {},
   "outputs": [],
   "source": [
    "numero_paginas = driver.find_element(\"xpath\", '''html/body/div[5]/section/div/div[3]/section/div/div/div/div/div[2]\n",
    "/section[2]/div[2]/section[2]/div[2]/div/label[2]''')\n",
    "numero_paginas = int(numero_paginas.text.replace(\"of \",\"\"))\n",
    "numero_paginas"
   ]
  },
  {
   "cell_type": "code",
   "execution_count": null,
   "id": "1cac5146",
   "metadata": {},
   "outputs": [],
   "source": [
    "lista_de_tabela_por_pagina = []\n",
    "\n",
    "for pagina in range(0, numero_paginas):\n",
    "    \n",
    "    tabela = driver.find_element(\"xpath\", '''/html/body/div[5]/section/div/div[3]\n",
    "    /section/div/div/div/div/div[2]/section[2]/div[2]/div/table''')\n",
    "\n",
    "    html_tabela = tabela.get_attribute(\"outerHTML\")\n",
    "\n",
    "    tabela_final = pd.read_html(html_tabela)[0]\n",
    "\n",
    "    lista_de_tabela_por_pagina.append(tabela_final)\n",
    "    \n",
    "    botao_avancar_pagina = driver.find_element(\"xpath\", \"/html/body/div[5]/section/div/div[3]/section/div/div/div/div/div[2]/section[2]/div[2]/section[2]/div[2]/div/span[2]\")\n",
    "    \n",
    "    driver.execute_script(\"arguments[0].click();\", botao_avancar_pagina)\n",
    "    \n",
    "base_de_dados_completa = pd.concat(lista_de_tabela_por_pagina)\n",
    "\n",
    "base_de_dados_completa"
   ]
  },
  {
   "cell_type": "code",
   "execution_count": null,
   "id": "fb30066a",
   "metadata": {},
   "outputs": [],
   "source": [
    "botao_performance = driver.find_element(\"xpath\", '''/html/body/div[5]/section/div/div[3]/section/div/div/div/div/div[2]\n",
    "/section[2]/div[2]/ul/li[2]/span''')\n",
    "\n",
    "driver.execute_script(\"arguments[0].click();\", botao_performance)\n",
    "\n",
    "for pagina in range (0, numero_paginas):\n",
    "    \n",
    "    botao_voltar = driver.find_element(\"xpath\", '''/html/body/div[5]/section/div/div[3]/section/div/div/div/div/div[2]\n",
    "    /section[2]/div[2]/section[2]/div[2]/div/span[1]''')\n",
    "    \n",
    "    driver.execute_script(\"arguments[0].click();\", botao_voltar)"
   ]
  },
  {
   "cell_type": "code",
   "execution_count": null,
   "id": "29f43578",
   "metadata": {},
   "outputs": [],
   "source": [
    "lista_de_tabela_por_pagina = []\n",
    "\n",
    "for pagina in range(0, numero_paginas):\n",
    "    \n",
    "    tabela = driver.find_element(\"xpath\", '''/html/body/div[5]/section/div/div[3]\n",
    "    /section/div/div/div/div/div[2]/section[2]/div[2]/div/table''')\n",
    "\n",
    "    html_tabela = tabela.get_attribute(\"outerHTML\")\n",
    "\n",
    "    tabela_final = pd.read_html(html_tabela)[0]\n",
    "\n",
    "    lista_de_tabela_por_pagina.append(tabela_final)\n",
    "    \n",
    "    botao_avancar_pagina = driver.find_element(\"xpath\", \"/html/body/div[5]/section/div/div[3]/section/div/div/div/div/div[2]/section[2]/div[2]/section[2]/div[2]/div/span[2]\")\n",
    "    \n",
    "    driver.execute_script(\"arguments[0].click();\", botao_avancar_pagina)\n",
    "    \n",
    "base_de_dados_performance = pd.concat(lista_de_tabela_por_pagina)\n",
    "\n",
    "base_de_dados_performance"
   ]
  },
  {
   "cell_type": "code",
   "execution_count": null,
   "id": "4ba8cebe",
   "metadata": {},
   "outputs": [],
   "source": []
  }
 ],
 "metadata": {
  "kernelspec": {
   "display_name": "Python 3 (ipykernel)",
   "language": "python",
   "name": "python3"
  },
  "language_info": {
   "codemirror_mode": {
    "name": "ipython",
    "version": 3
   },
   "file_extension": ".py",
   "mimetype": "text/x-python",
   "name": "python",
   "nbconvert_exporter": "python",
   "pygments_lexer": "ipython3",
   "version": "3.9.13"
  }
 },
 "nbformat": 4,
 "nbformat_minor": 5
}
